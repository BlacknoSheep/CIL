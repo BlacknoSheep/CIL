{
 "cells": [
  {
   "cell_type": "markdown",
   "id": "47f7d299c688531f",
   "metadata": {
    "collapsed": false
   },
   "source": [
    "# 显示混淆矩阵"
   ]
  },
  {
   "cell_type": "code",
   "execution_count": null,
   "id": "57bf066b09e65558",
   "metadata": {
    "collapsed": false
   },
   "outputs": [],
   "source": [
    "import numpy as np\n",
    "import matplotlib.pyplot as plt\n",
    "import seaborn as sns\n",
    "from sklearn.metrics import confusion_matrix"
   ]
  },
  {
   "cell_type": "code",
   "execution_count": null,
   "id": "90ef79be78256cee",
   "metadata": {
    "collapsed": false
   },
   "outputs": [],
   "source": [
    "predicts_path = \"./saved/ours_predicts.npy\"\n",
    "# predicts_path = \"./saved/fetril_predicts.npy\"\n",
    "# predicts_path = \"./saved/fecam_predicts.npy\"\n",
    "\n",
    "# predicts_path = \"./saved/ncm_euclidean_predicts.npy\"\n",
    "# predicts_path = \"./saved/ncm_cosine_predicts.npy\"\n",
    "# predicts_path = \"./saved/ncm_cosine_norm_predicts.npy\"\n",
    "\n",
    "predicts = np.load(predicts_path)\n",
    "predicts.shape"
   ]
  },
  {
   "cell_type": "code",
   "execution_count": null,
   "id": "26f0283689c7619c",
   "metadata": {
    "collapsed": false
   },
   "outputs": [],
   "source": [
    "pred_labels = predicts[:,0]\n",
    "true_labels = predicts[:,1]"
   ]
  },
  {
   "cell_type": "code",
   "execution_count": null,
   "id": "a7afc5714e554f81",
   "metadata": {
    "collapsed": false
   },
   "outputs": [],
   "source": [
    "# 计算混淆矩阵\n",
    "cm = confusion_matrix(true_labels, pred_labels)\n",
    "cm.shape"
   ]
  },
  {
   "cell_type": "code",
   "execution_count": null,
   "id": "c8d00a059352491d",
   "metadata": {
    "collapsed": false
   },
   "outputs": [],
   "source": [
    "# 设置Seaborn的样式\n",
    "sns.set(font_scale=1.2)\n",
    "\n",
    "# 绘制热力图\n",
    "plt.figure(figsize=(10, 10))\n",
    "sns.heatmap(cm, fmt=\"d\", cmap=\"Blues\",cbar=True, cbar_kws={\"shrink\": 0.8}, vmin=0, vmax=100,\n",
    "            xticklabels=20, yticklabels=20, square=True)\n",
    "\n",
    "plt.xlabel('Predicted Labels')\n",
    "plt.ylabel('True Labels')\n",
    "plt.show()"
   ]
  },
  {
   "cell_type": "code",
   "execution_count": null,
   "id": "33aa3ba8a8f1c97d",
   "metadata": {
    "collapsed": false
   },
   "outputs": [],
   "source": []
  },
  {
   "cell_type": "markdown",
   "id": "e3726a26d9e32a16",
   "metadata": {
    "collapsed": false
   },
   "source": [
    "# 修改FeTrIL和FeCAM以保存最后一个任务的完整分类结果"
   ]
  },
  {
   "cell_type": "code",
   "execution_count": null,
   "id": "6e00c2527a2be6c9",
   "metadata": {
    "collapsed": false
   },
   "outputs": [],
   "source": [
    "# 在after_task函数中添加\n",
    "\n",
    "# save last predicts\n",
    "\"\"\"\n",
    "y_pred, y_true = self._eval_cnn(self.test_loader) # for FeTrIL\n",
    "y_pred, y_true = self._eval_maha(self.test_loader, self._init_protos, self._protos) # for FeCAM\n",
    "\n",
    "y_pred = y_pred[:, 0]  # [N]\n",
    "predicts = np.stack((y_pred, y_true), axis=1)  # [N, 2]\n",
    "np.save(\"fetril_predicts.npy\", predicts)\n",
    "\"\"\""
   ]
  }
 ],
 "metadata": {
  "kernelspec": {
   "display_name": "Python 3",
   "language": "python",
   "name": "python3"
  },
  "language_info": {
   "codemirror_mode": {
    "name": "ipython",
    "version": 3
   },
   "file_extension": ".py",
   "mimetype": "text/x-python",
   "name": "python",
   "nbconvert_exporter": "python",
   "pygments_lexer": "ipython3",
   "version": "3.11.2"
  }
 },
 "nbformat": 4,
 "nbformat_minor": 5
}
