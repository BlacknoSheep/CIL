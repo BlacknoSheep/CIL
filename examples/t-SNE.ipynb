{
 "cells": [
  {
   "cell_type": "markdown",
   "id": "a83f152a6a33eeb2",
   "metadata": {
    "collapsed": false
   },
   "source": [
    "# 1. 读取配置文件"
   ]
  },
  {
   "cell_type": "code",
   "execution_count": null,
   "id": "d1dd3a840fb92d26",
   "metadata": {
    "collapsed": false
   },
   "outputs": [],
   "source": [
    "import json"
   ]
  },
  {
   "cell_type": "code",
   "execution_count": null,
   "id": "d4ed97a5cea1df81",
   "metadata": {
    "collapsed": false
   },
   "outputs": [],
   "source": [
    "config_path = \"./exps/momentum.json\"\n",
    "with open(config_path, 'r') as f:\n",
    "    args = json.load(f)\n",
    "print(args)"
   ]
  },
  {
   "cell_type": "code",
   "execution_count": null,
   "id": "d5f2204164bcaa5f",
   "metadata": {
    "collapsed": false
   },
   "outputs": [],
   "source": [
    "import torch"
   ]
  },
  {
   "cell_type": "code",
   "execution_count": null,
   "id": "fb0044a61cf3569e",
   "metadata": {
    "collapsed": false
   },
   "outputs": [],
   "source": [
    "device = torch.device(\"cuda:0\" if torch.cuda.is_available() else \"cpu\")\n",
    "device"
   ]
  },
  {
   "cell_type": "markdown",
   "id": "7d51f99ca6f57962",
   "metadata": {
    "collapsed": false
   },
   "source": [
    "# 2. 读取数据集"
   ]
  },
  {
   "cell_type": "code",
   "execution_count": null,
   "id": "ea5fc89653fd0f02",
   "metadata": {
    "collapsed": false
   },
   "outputs": [],
   "source": [
    "import torchvision as tv\n",
    "from torch.utils.data import DataLoader\n",
    "from utils.data_manager import DataManager\n",
    "import numpy as np\n",
    "import numpy as np"
   ]
  },
  {
   "cell_type": "code",
   "execution_count": null,
   "id": "7b2dde21",
   "metadata": {},
   "outputs": [],
   "source": [
    "data_manager = DataManager(\n",
    "    args[\"dataset\"],\n",
    "    args[\"shuffle\"],\n",
    "    args[\"seed\"][0],\n",
    "    100,\n",
    "    0,\n",
    ")\n",
    "print(data_manager._class_order) # 确保类别顺序和训练时一致"
   ]
  },
  {
   "cell_type": "code",
   "execution_count": null,
   "id": "9e86a65e09a567bc",
   "metadata": {
    "collapsed": false
   },
   "outputs": [],
   "source": [
    "dataset = data_manager.get_dataset(np.arange(0, 100), source=\"test\", mode=\"test\")\n",
    "dataloader = DataLoader(dataset, batch_size=256, shuffle=False, num_workers=2)\n",
    "print(len(dataset))"
   ]
  },
  {
   "cell_type": "markdown",
   "id": "e5b099e191d0685a",
   "metadata": {
    "collapsed": false
   },
   "source": [
    "# 2.1 tools"
   ]
  },
  {
   "cell_type": "code",
   "execution_count": null,
   "id": "e1b6631a9e585e92",
   "metadata": {
    "collapsed": false
   },
   "outputs": [],
   "source": [
    "import numpy as np\n",
    "from tqdm import tqdm"
   ]
  },
  {
   "cell_type": "code",
   "execution_count": null,
   "id": "d780a51df51d568",
   "metadata": {
    "collapsed": false
   },
   "outputs": [],
   "source": [
    "def layernorm(_x, _eps=1e-05):\n",
    "    \"\"\"\n",
    "    :param _x: ndarray of [n, dim]\n",
    "    \"\"\"\n",
    "    _mean = np.mean(_x, axis=1, keepdims=True)\n",
    "    _std = np.std(_x, axis=1, keepdims=True)\n",
    "    _x = (_x - _mean) / (_std + _eps)\n",
    "    return _x"
   ]
  },
  {
   "cell_type": "code",
   "execution_count": null,
   "id": "a9a9cb01207b65d5",
   "metadata": {
    "collapsed": false
   },
   "outputs": [],
   "source": [
    "def extract_features(_extractor, _loader):\n",
    "    _features = []\n",
    "    _labels = []\n",
    "    _extractor.to(device)\n",
    "    _extractor.eval()\n",
    "    for _i, (_, _x, _y) in enumerate(tqdm(_loader)):\n",
    "        _x = _x.to(device)\n",
    "        with torch.no_grad():\n",
    "            _f = _extractor(_x)[\"features\"]\n",
    "        _features.append(_f.to(\"cpu\"))\n",
    "        _labels.append(_y)\n",
    "    _features = torch.cat(_features, dim=0)\n",
    "    _labels = torch.cat(_labels, dim=0)\n",
    "    return _features, _labels"
   ]
  },
  {
   "cell_type": "markdown",
   "id": "7b0c5d23da5f7a58",
   "metadata": {
    "collapsed": false
   },
   "source": [
    "# 3. 读取模型"
   ]
  },
  {
   "cell_type": "code",
   "execution_count": null,
   "id": "b0d20ffe491fb633",
   "metadata": {
    "collapsed": false
   },
   "outputs": [],
   "source": [
    "# 训练时不使用norm\n",
    "# saved_path = \"./saved/noLN_momentum_resnet18_cifar100_50_all.pkl\"\n",
    "# 训练时使用norm\n",
    "saved_path = \"./saved/e250+50_momentum_resnet18_cifar100_50_all.pkl\""
   ]
  },
  {
   "cell_type": "code",
   "execution_count": null,
   "id": "7aba71148dce4678",
   "metadata": {
    "collapsed": false
   },
   "outputs": [],
   "source": [
    "from utils.inc_net import HeadNet"
   ]
  },
  {
   "cell_type": "code",
   "execution_count": null,
   "id": "fa0a8443bee2e365",
   "metadata": {
    "collapsed": false
   },
   "outputs": [],
   "source": [
    "model = HeadNet(args, False, None)"
   ]
  },
  {
   "cell_type": "code",
   "execution_count": null,
   "id": "8867fc80c5bd1937",
   "metadata": {
    "collapsed": false
   },
   "outputs": [],
   "source": [
    "saved_all = torch.load(saved_path)\n",
    "model.load_state_dict(saved_all[\"model_state_dict\"], strict=False)\n",
    "means = saved_all[\"means\"]\n",
    "stds = saved_all[\"stds\"]"
   ]
  },
  {
   "cell_type": "markdown",
   "id": "2a90914f44740b54",
   "metadata": {
    "collapsed": false
   },
   "source": [
    "## 3.1 计算每个类的特征向量"
   ]
  },
  {
   "cell_type": "code",
   "execution_count": null,
   "id": "2af5b95eaa74aaff",
   "metadata": {
    "collapsed": false
   },
   "outputs": [],
   "source": [
    "features, labels = extract_features(model.convnet, dataloader)\n",
    "features = features.numpy()\n",
    "labels = labels.numpy()"
   ]
  },
  {
   "cell_type": "code",
   "execution_count": null,
   "id": "45143cc90a553172",
   "metadata": {
    "collapsed": false
   },
   "outputs": [],
   "source": [
    "print(features.shape, labels.shape)"
   ]
  },
  {
   "cell_type": "markdown",
   "id": "29c5d33e8dfdf17",
   "metadata": {
    "collapsed": false
   },
   "source": [
    "# 4. 对特征进行t-SNE可视化"
   ]
  },
  {
   "cell_type": "code",
   "execution_count": null,
   "id": "62db92f903f2cbd3",
   "metadata": {
    "collapsed": false
   },
   "outputs": [],
   "source": [
    "from sklearn.manifold import TSNE\n",
    "import matplotlib.pyplot as plt"
   ]
  },
  {
   "cell_type": "code",
   "execution_count": null,
   "id": "61ef66a901140d02",
   "metadata": {
    "collapsed": false
   },
   "outputs": [],
   "source": [
    "def select_classes(_classes):\n",
    "    _features = []\n",
    "    _labels = []\n",
    "    for _i, _l in enumerate(labels):\n",
    "        if _l in _classes:\n",
    "            _features.append(features[_i])\n",
    "            _labels.append(_l)\n",
    "    _features = np.array(_features)\n",
    "    _labels = np.array(_labels)\n",
    "    return _features, _labels"
   ]
  },
  {
   "cell_type": "code",
   "execution_count": null,
   "id": "2e01e4fb2f0719b8",
   "metadata": {
    "collapsed": false
   },
   "outputs": [],
   "source": [
    "def show_tsne(_classes, _features, _labels, _colors):\n",
    "    _tsne = TSNE(n_components=2, init='pca', random_state=0)\n",
    "    _features = _tsne.fit_transform(_features)  # [n, 2]\n",
    "    _class_features = [_features[_labels == i] for i in _classes]\n",
    "\n",
    "    for i in range(len(_classes)):\n",
    "        plt.scatter(_class_features[i][:, 0], _class_features[i][:, 1], c=_colors[i], label=_classes[i])\n",
    "    plt.axis('off')\n",
    "    plt.legend()\n",
    "    plt.show()"
   ]
  },
  {
   "cell_type": "markdown",
   "id": "109ccb7e",
   "metadata": {},
   "source": [
    "不同类别的颜色"
   ]
  },
  {
   "cell_type": "code",
   "execution_count": null,
   "id": "fbec84c3",
   "metadata": {},
   "outputs": [],
   "source": [
    "classToColors = {\n",
    "  5: \"#3C3C3C\",\n",
    "  15: \"#600000\",\n",
    "  25: \"#750075\",\n",
    "  35: \"#808040\",\n",
    "  45: \"#3D7878\",\n",
    "  55: \"#00FFFF\",\n",
    "  65: \"#28FF28\",\n",
    "  75: \"#F9F900\",\n",
    "  85: \"#FFA042\",\n",
    "  95: \"#4A4AFF\",\n",
    "}"
   ]
  },
  {
   "cell_type": "markdown",
   "id": "822f8c3e5081133",
   "metadata": {
    "collapsed": false
   },
   "source": [
    "## 4.1 旧类"
   ]
  },
  {
   "cell_type": "code",
   "execution_count": null,
   "id": "d4432bf608ac5f5f",
   "metadata": {
    "collapsed": false
   },
   "outputs": [],
   "source": [
    "selected_classes = [5, 15, 25, 35, 45]\n",
    "colors = [classToColors[idx] for idx in selected_classes]\n",
    "selected_features, selected_labels = select_classes(selected_classes)"
   ]
  },
  {
   "cell_type": "code",
   "execution_count": null,
   "id": "1d099a36eda611d",
   "metadata": {
    "collapsed": false
   },
   "outputs": [],
   "source": [
    "# 不使用norm\n",
    "show_tsne(selected_classes, selected_features, selected_labels, colors)"
   ]
  },
  {
   "cell_type": "code",
   "execution_count": null,
   "id": "28c946c0b388aa9b",
   "metadata": {
    "collapsed": false
   },
   "outputs": [],
   "source": [
    "# 对特征向量使用norm（若训练时使用norm，则此时也应该使用norm）\n",
    "show_tsne(selected_classes, layernorm(selected_features), selected_labels, colors)"
   ]
  },
  {
   "cell_type": "markdown",
   "id": "627edd2b38cec1cc",
   "metadata": {
    "collapsed": false
   },
   "source": [
    "## 4.2 新类"
   ]
  },
  {
   "cell_type": "code",
   "execution_count": null,
   "id": "d498a31093ed2f46",
   "metadata": {
    "collapsed": false
   },
   "outputs": [],
   "source": [
    "selected_classes = [55, 65, 75, 85, 95]\n",
    "colors = [classToColors[idx] for idx in selected_classes]\n",
    "selected_features, selected_labels = select_classes(selected_classes)"
   ]
  },
  {
   "cell_type": "code",
   "execution_count": null,
   "id": "d91f57b5a9cf7b4c",
   "metadata": {
    "collapsed": false
   },
   "outputs": [],
   "source": [
    "# 不使用norm\n",
    "show_tsne(selected_classes, selected_features, selected_labels, colors)"
   ]
  },
  {
   "cell_type": "code",
   "execution_count": null,
   "id": "5705919d7dd8d0fd",
   "metadata": {
    "collapsed": false
   },
   "outputs": [],
   "source": [
    "# 对特征向量使用norm（若训练时使用norm，则此时也应该使用norm）\n",
    "show_tsne(selected_classes, layernorm(selected_features), selected_labels, colors)"
   ]
  },
  {
   "cell_type": "markdown",
   "id": "24b525d3a708ac45",
   "metadata": {
    "collapsed": false
   },
   "source": []
  },
  {
   "cell_type": "markdown",
   "id": "6aa29966",
   "metadata": {},
   "source": [
    "## 旧类+新类"
   ]
  },
  {
   "cell_type": "code",
   "execution_count": null,
   "id": "4b9b7706",
   "metadata": {},
   "outputs": [],
   "source": [
    "selected_classes = [5, 15, 25, 35, 45, 55, 65, 75, 85, 95]\n",
    "colors = [classToColors[idx] for idx in selected_classes]\n",
    "selected_features, selected_labels = select_classes(selected_classes)"
   ]
  },
  {
   "cell_type": "code",
   "execution_count": null,
   "id": "e3d34fe8",
   "metadata": {},
   "outputs": [],
   "source": [
    "# 不使用norm\n",
    "show_tsne(selected_classes, selected_features, selected_labels, colors)"
   ]
  },
  {
   "cell_type": "code",
   "execution_count": null,
   "id": "b6aa4793",
   "metadata": {},
   "outputs": [],
   "source": [
    "# 对特征向量使用norm（若训练时使用norm，则此时也应该使用norm）\n",
    "show_tsne(selected_classes, layernorm(selected_features), selected_labels, colors)"
   ]
  },
  {
   "cell_type": "code",
   "execution_count": null,
   "id": "26ceec4b756375b1",
   "metadata": {
    "collapsed": false
   },
   "outputs": [],
   "source": []
  }
 ],
 "metadata": {
  "kernelspec": {
   "display_name": "Python 3",
   "language": "python",
   "name": "python3"
  },
  "language_info": {
   "codemirror_mode": {
    "name": "ipython",
    "version": 3
   },
   "file_extension": ".py",
   "mimetype": "text/x-python",
   "name": "python",
   "nbconvert_exporter": "python",
   "pygments_lexer": "ipython3",
   "version": "3.11.2"
  }
 },
 "nbformat": 4,
 "nbformat_minor": 5
}
