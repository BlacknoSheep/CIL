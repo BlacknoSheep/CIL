{
 "cells": [
  {
   "cell_type": "markdown",
   "source": [
    "# 1. 读取配置文件"
   ],
   "metadata": {
    "collapsed": false
   },
   "id": "a83f152a6a33eeb2"
  },
  {
   "cell_type": "code",
   "outputs": [],
   "source": [
    "import json"
   ],
   "metadata": {
    "collapsed": false
   },
   "id": "d1dd3a840fb92d26",
   "execution_count": null
  },
  {
   "cell_type": "code",
   "outputs": [],
   "source": [
    "config_path = \"../exps/momentum.json\"\n",
    "with open(config_path, 'r') as f:\n",
    "    args = json.load(f)\n",
    "print(args)"
   ],
   "metadata": {
    "collapsed": false
   },
   "id": "d4ed97a5cea1df81",
   "execution_count": null
  },
  {
   "cell_type": "code",
   "outputs": [],
   "source": [
    "import torch"
   ],
   "metadata": {
    "collapsed": false
   },
   "id": "d5f2204164bcaa5f",
   "execution_count": null
  },
  {
   "cell_type": "code",
   "outputs": [],
   "source": [
    "device = torch.device(\"cuda:0\" if torch.cuda.is_available() else \"cpu\")\n",
    "device"
   ],
   "metadata": {
    "collapsed": false
   },
   "id": "fb0044a61cf3569e",
   "execution_count": null
  },
  {
   "cell_type": "markdown",
   "source": [
    "# 2. 读取数据集"
   ],
   "metadata": {
    "collapsed": false
   },
   "id": "7d51f99ca6f57962"
  },
  {
   "cell_type": "code",
   "outputs": [],
   "source": [
    "import torchvision as tv\n",
    "from torch.utils.data import DataLoader"
   ],
   "metadata": {
    "collapsed": false
   },
   "id": "ea5fc89653fd0f02",
   "execution_count": null
  },
  {
   "cell_type": "code",
   "outputs": [],
   "source": [
    "trsf = tv.transforms.Compose([\n",
    "    tv.transforms.ToTensor(),\n",
    "    tv.transforms.Normalize(mean=(0.5071, 0.4867, 0.4408), std=(0.2675, 0.2565, 0.2761))\n",
    "])\n",
    "dataset = tv.datasets.CIFAR100(root='../data/CIFAR', train=False, transform=trsf, download=False)\n",
    "dataloader = DataLoader(dataset, batch_size=256, shuffle=False, num_workers=0)"
   ],
   "metadata": {
    "collapsed": false
   },
   "id": "9e86a65e09a567bc",
   "execution_count": null
  },
  {
   "cell_type": "code",
   "outputs": [],
   "source": [
    "len(dataset)"
   ],
   "metadata": {
    "collapsed": false
   },
   "id": "eb0041537de04b5",
   "execution_count": null
  },
  {
   "cell_type": "markdown",
   "source": [
    "# 2.1 tools"
   ],
   "metadata": {
    "collapsed": false
   },
   "id": "e5b099e191d0685a"
  },
  {
   "cell_type": "code",
   "outputs": [],
   "source": [
    "import numpy as np"
   ],
   "metadata": {
    "collapsed": false
   },
   "id": "e1b6631a9e585e92",
   "execution_count": null
  },
  {
   "cell_type": "code",
   "outputs": [],
   "source": [
    "def layernorm(_x, _eps=1e-05):\n",
    "    \"\"\"\n",
    "    :param _x: ndarray of [n, dim]\n",
    "    \"\"\"\n",
    "    _mean = np.mean(_x, axis=1, keepdims=True)\n",
    "    _std = np.std(_x, axis=1, keepdims=True)\n",
    "    _x = (_x - _mean) / (_std + _eps)\n",
    "    return _x"
   ],
   "metadata": {
    "collapsed": false
   },
   "id": "d780a51df51d568",
   "execution_count": null
  },
  {
   "cell_type": "code",
   "outputs": [],
   "source": [
    "def extract_features(_extractor, _loader):\n",
    "    _features = []\n",
    "    _labels = []\n",
    "    _extractor.to(device)\n",
    "    _extractor.eval()\n",
    "    for _i, (_x, _y) in tqdm(enumerate(_loader)):\n",
    "        _x = _x.to(device)\n",
    "        with torch.no_grad():\n",
    "            _f = _extractor(_x)[\"features\"]\n",
    "        _features.append(_f.to(\"cpu\"))\n",
    "        _labels.append(_y)\n",
    "    _features = torch.cat(_features, dim=0)\n",
    "    _labels = torch.cat(_labels, dim=0)\n",
    "    return _features, _labels"
   ],
   "metadata": {
    "collapsed": false
   },
   "id": "a9a9cb01207b65d5",
   "execution_count": null
  },
  {
   "cell_type": "markdown",
   "source": [
    "# 3. 读取模型"
   ],
   "metadata": {
    "collapsed": false
   },
   "id": "7b0c5d23da5f7a58"
  },
  {
   "cell_type": "code",
   "outputs": [],
   "source": [
    "# 训练时不使用norm\n",
    "# saved_path = \"../saved/noLN_momentum_resnet18_cifar100_50_all.pkl\"\n",
    "# 训练时使用norm\n",
    "saved_path = \"../saved/e250+50_momentum_resnet18_cifar100_50_all.pkl\""
   ],
   "metadata": {
    "collapsed": false
   },
   "id": "b0d20ffe491fb633",
   "execution_count": null
  },
  {
   "cell_type": "code",
   "outputs": [],
   "source": [
    "import torch\n",
    "from tqdm import tqdm\n",
    "from utils.inc_net import HeadNet"
   ],
   "metadata": {
    "collapsed": false
   },
   "id": "7aba71148dce4678",
   "execution_count": null
  },
  {
   "cell_type": "code",
   "outputs": [],
   "source": [
    "model = HeadNet(args, False, None)"
   ],
   "metadata": {
    "collapsed": false
   },
   "id": "fa0a8443bee2e365",
   "execution_count": null
  },
  {
   "cell_type": "code",
   "outputs": [],
   "source": [
    "saved_all = torch.load(saved_path)\n",
    "model.load_state_dict(saved_all[\"model_state_dict\"], strict=False)\n",
    "means = saved_all[\"means\"]\n",
    "stds = saved_all[\"stds\"]"
   ],
   "metadata": {
    "collapsed": false
   },
   "id": "8867fc80c5bd1937",
   "execution_count": null
  },
  {
   "cell_type": "markdown",
   "source": [
    "## 3.1 计算每个类的特征向量"
   ],
   "metadata": {
    "collapsed": false
   },
   "id": "2a90914f44740b54"
  },
  {
   "cell_type": "code",
   "outputs": [],
   "source": [
    "features, labels = extract_features(model.convnet, dataloader)\n",
    "features = features.numpy()\n",
    "labels = labels.numpy()"
   ],
   "metadata": {
    "collapsed": false
   },
   "id": "2af5b95eaa74aaff",
   "execution_count": null
  },
  {
   "cell_type": "code",
   "outputs": [],
   "source": [
    "print(features.shape, labels.shape)"
   ],
   "metadata": {
    "collapsed": false
   },
   "id": "45143cc90a553172",
   "execution_count": null
  },
  {
   "cell_type": "markdown",
   "source": [
    "# 4. 对特征进行t-SNE可视化"
   ],
   "metadata": {
    "collapsed": false
   },
   "id": "29c5d33e8dfdf17"
  },
  {
   "cell_type": "code",
   "outputs": [],
   "source": [
    "from sklearn.manifold import TSNE\n",
    "import matplotlib.pyplot as plt"
   ],
   "metadata": {
    "collapsed": false
   },
   "id": "62db92f903f2cbd3",
   "execution_count": null
  },
  {
   "cell_type": "code",
   "outputs": [],
   "source": [
    "def select_classes(_classes):\n",
    "    _features = []\n",
    "    _labels = []\n",
    "    for _i, _l in enumerate(labels):\n",
    "        if _l in _classes:\n",
    "            _features.append(features[_i])\n",
    "            _labels.append(_l)\n",
    "    _features = np.array(_features)\n",
    "    _labels = np.array(_labels)\n",
    "    return _features, _labels"
   ],
   "metadata": {
    "collapsed": false
   },
   "id": "61ef66a901140d02",
   "execution_count": null
  },
  {
   "cell_type": "code",
   "outputs": [],
   "source": [
    "def show_tsne(_classes, _features, _labels, _colors):\n",
    "    _tsne = TSNE(n_components=2, init='pca', random_state=0)\n",
    "    _features = _tsne.fit_transform(_features)  # [n, 2]\n",
    "    _class_features = [_features[_labels == i] for i in _classes]\n",
    "\n",
    "    for i in range(len(_classes)):\n",
    "        plt.scatter(_class_features[i][:, 0], _class_features[i][:, 1], c=_colors[i], label=_classes[i])\n",
    "    plt.axis('off')\n",
    "    plt.legend()\n",
    "    plt.show()"
   ],
   "metadata": {
    "collapsed": false
   },
   "id": "2e01e4fb2f0719b8",
   "execution_count": null
  },
  {
   "cell_type": "markdown",
   "source": [
    "## 4.1 旧类"
   ],
   "metadata": {
    "collapsed": false
   },
   "id": "822f8c3e5081133"
  },
  {
   "cell_type": "code",
   "outputs": [],
   "source": [
    "selected_classes = [0, 15, 30, 45]\n",
    "colors = [\"#000000\", \"#BEBEBE\", \"#AE0000\", \"#8600FF\"]\n",
    "selected_features, selected_labels = select_classes(selected_classes)"
   ],
   "metadata": {
    "collapsed": false
   },
   "id": "d4432bf608ac5f5f",
   "execution_count": null
  },
  {
   "cell_type": "code",
   "outputs": [],
   "source": [
    "# 不使用norm\n",
    "show_tsne(selected_classes, selected_features, selected_labels, colors)"
   ],
   "metadata": {
    "collapsed": false
   },
   "id": "1d099a36eda611d",
   "execution_count": null
  },
  {
   "cell_type": "code",
   "outputs": [],
   "source": [
    "# 对特征向量使用norm\n",
    "show_tsne(selected_classes, layernorm(selected_features), selected_labels, colors)"
   ],
   "metadata": {
    "collapsed": false
   },
   "id": "28c946c0b388aa9b",
   "execution_count": null
  },
  {
   "cell_type": "markdown",
   "source": [
    "## 4.2 新类"
   ],
   "metadata": {
    "collapsed": false
   },
   "id": "627edd2b38cec1cc"
  },
  {
   "cell_type": "code",
   "outputs": [],
   "source": [
    "selected_classes = [50, 65, 80, 95]\n",
    "colors = [\"#2828FF\", \"#00FFFF\", \"#00EC00\", \"#F9F900\"]\n",
    "selected_features, selected_labels = select_classes(selected_classes)"
   ],
   "metadata": {
    "collapsed": false
   },
   "id": "d498a31093ed2f46",
   "execution_count": null
  },
  {
   "cell_type": "code",
   "outputs": [],
   "source": [
    "# 不使用norm\n",
    "show_tsne(selected_classes, selected_features, selected_labels, colors)"
   ],
   "metadata": {
    "collapsed": false
   },
   "id": "d91f57b5a9cf7b4c",
   "execution_count": null
  },
  {
   "cell_type": "code",
   "outputs": [],
   "source": [
    "# 对特征向量使用norm\n",
    "show_tsne(selected_classes, layernorm(selected_features), selected_labels, colors)"
   ],
   "metadata": {
    "collapsed": false
   },
   "id": "5705919d7dd8d0fd",
   "execution_count": null
  },
  {
   "cell_type": "markdown",
   "source": [],
   "metadata": {
    "collapsed": false
   },
   "id": "24b525d3a708ac45"
  },
  {
   "cell_type": "code",
   "outputs": [],
   "source": [],
   "metadata": {
    "collapsed": false
   },
   "id": "26ceec4b756375b1"
  }
 ],
 "metadata": {
  "kernelspec": {
   "display_name": "Python 3",
   "language": "python",
   "name": "python3"
  },
  "language_info": {
   "codemirror_mode": {
    "name": "ipython",
    "version": 2
   },
   "file_extension": ".py",
   "mimetype": "text/x-python",
   "name": "python",
   "nbconvert_exporter": "python",
   "pygments_lexer": "ipython2",
   "version": "2.7.6"
  }
 },
 "nbformat": 4,
 "nbformat_minor": 5
}
