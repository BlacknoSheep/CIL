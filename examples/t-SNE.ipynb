{
 "cells": [
  {
   "cell_type": "markdown",
   "source": [
    "# 1. 读取配置文件"
   ],
   "metadata": {
    "collapsed": false
   },
   "id": "a83f152a6a33eeb2"
  },
  {
   "cell_type": "code",
   "outputs": [],
   "source": [
    "import json"
   ],
   "metadata": {
    "collapsed": false,
    "ExecuteTime": {
     "end_time": "2024-01-06T12:47:08.611943Z",
     "start_time": "2024-01-06T12:47:08.535223400Z"
    }
   },
   "id": "d1dd3a840fb92d26",
   "execution_count": 1
  },
  {
   "cell_type": "code",
   "outputs": [
    {
     "name": "stdout",
     "output_type": "stream",
     "text": [
      "{'prefix': 'train', 'dataset': 'cifar100', 'memory_size': 0, 'shuffle': True, 'init_cls': 50, 'increment': 10, 'model_name': 'momentum', 'convnet_type': 'resnet18', 'device': ['0'], 'seed': [1993], 'init_epochs': 250, 'init_lr': 0.1, 'init_weight_decay': 0.0005, 'epochs': 50, 'lr': 0.05, 'weight_decay': 0.0005, 'batch_size': 128, 'num_workers': 8, 'pin_memory': True, 'T': 2, 'pre_norm': True, 'momentum': 0.99, 'generator': 'noise'}\n"
     ]
    }
   ],
   "source": [
    "config_path = \"../exps/momentum.json\"\n",
    "with open(config_path, 'r') as f:\n",
    "    args = json.load(f)\n",
    "print(args)"
   ],
   "metadata": {
    "collapsed": false,
    "ExecuteTime": {
     "end_time": "2024-01-06T12:47:08.635906500Z",
     "start_time": "2024-01-06T12:47:08.605421900Z"
    }
   },
   "id": "d4ed97a5cea1df81",
   "execution_count": 2
  },
  {
   "cell_type": "code",
   "outputs": [],
   "source": [
    "import torch"
   ],
   "metadata": {
    "collapsed": false
   },
   "id": "d5f2204164bcaa5f"
  },
  {
   "cell_type": "code",
   "outputs": [],
   "source": [
    "device = torch.device(\"cuda:0\" if torch.cuda.is_available() else \"cpu\")"
   ],
   "metadata": {
    "collapsed": false
   },
   "id": "fb0044a61cf3569e"
  },
  {
   "cell_type": "markdown",
   "source": [
    "# 2. 读取数据集"
   ],
   "metadata": {
    "collapsed": false
   },
   "id": "7d51f99ca6f57962"
  },
  {
   "cell_type": "markdown",
   "source": [
    "这里使用测试集进行分析"
   ],
   "metadata": {
    "collapsed": false
   },
   "id": "bc93b29011c61bb"
  },
  {
   "cell_type": "code",
   "outputs": [],
   "source": [
    "import torchvision as tv\n",
    "from torch.utils.data import DataLoader"
   ],
   "metadata": {
    "collapsed": false,
    "ExecuteTime": {
     "end_time": "2024-01-06T14:17:13.783696900Z",
     "start_time": "2024-01-06T14:17:13.770877800Z"
    }
   },
   "id": "ea5fc89653fd0f02",
   "execution_count": 4
  },
  {
   "cell_type": "code",
   "outputs": [],
   "source": [
    "trsf = tv.transforms.Compose([\n",
    "    tv.transforms.ToTensor(),\n",
    "    tv.transforms.Normalize(mean=(0.5071, 0.4867, 0.4408), std=(0.2675, 0.2565, 0.2761))\n",
    "])\n",
    "dataset = tv.datasets.CIFAR100(root='../data/CIFAR', train=False, transform=trsf, download=False)\n",
    "dataloader = DataLoader(dataset, batch_size=256, shuffle=False, num_workers=0)"
   ],
   "metadata": {
    "collapsed": false,
    "ExecuteTime": {
     "end_time": "2024-01-06T14:25:46.980063100Z",
     "start_time": "2024-01-06T14:25:45.001397200Z"
    }
   },
   "id": "9e86a65e09a567bc",
   "execution_count": 9
  },
  {
   "cell_type": "code",
   "outputs": [
    {
     "data": {
      "text/plain": "10000"
     },
     "execution_count": 11,
     "metadata": {},
     "output_type": "execute_result"
    }
   ],
   "source": [
    "len(dataset)"
   ],
   "metadata": {
    "collapsed": false,
    "ExecuteTime": {
     "end_time": "2024-01-06T14:26:19.656239900Z",
     "start_time": "2024-01-06T14:26:19.639489100Z"
    }
   },
   "id": "eb0041537de04b5",
   "execution_count": 11
  },
  {
   "cell_type": "markdown",
   "source": [
    "# 2.1 tools"
   ],
   "metadata": {
    "collapsed": false
   },
   "id": "e5b099e191d0685a"
  },
  {
   "cell_type": "code",
   "outputs": [],
   "source": [
    "from torch.nn import functional as F\n",
    "from sklearn.manifold import TSNE\n",
    "import matplotlib.pyplot as plt \n",
    "import numpy as np"
   ],
   "metadata": {
    "collapsed": false
   },
   "id": "e1b6631a9e585e92"
  },
  {
   "cell_type": "code",
   "outputs": [],
   "source": [
    "def layernorm(x, eps=1e-05):\n",
    "    \"\"\"\n",
    "    :param x: Tensor of [n, dim]\n",
    "    \"\"\"\n",
    "    _mean = torch.mean(x, dim=1, keepdim=True)\n",
    "    _std = torch.std(x, dim=1, keepdim=True)\n",
    "    x = (x - _mean) / (_std + eps)\n",
    "    return x"
   ],
   "metadata": {
    "collapsed": false
   },
   "id": "d780a51df51d568"
  },
  {
   "cell_type": "code",
   "outputs": [],
   "source": [
    "def extract_features(extractor, loader):\n",
    "    _features = []\n",
    "    _labels = []\n",
    "    extractor.to(device)\n",
    "    extractor.eval()\n",
    "    for _i, (_x, _y) in tqdm(enumerate(loader)):\n",
    "        _x = _x.to(device)\n",
    "        with torch.no_grad():\n",
    "            _f = extractor(_x)[\"features\"]\n",
    "        _features.append(_f.to(\"cpu\"))\n",
    "        _labels.append(_y)\n",
    "    _features = torch.cat(_features, dim=0)\n",
    "    _labels = torch.cat(_labels, dim=0)\n",
    "    return _features, _labels"
   ],
   "metadata": {
    "collapsed": false
   },
   "id": "a9a9cb01207b65d5"
  },
  {
   "cell_type": "code",
   "outputs": [],
   "source": [
    "def show_tsne(features, labels):\n",
    "    \"\"\"\n",
    "    :param features: ndarray of [n, feature_dim]\n",
    "    :param labels: ndarray of [n]\n",
    "    \"\"\"\n",
    "    _tsne = TSNE(n_components=2, init='pca', random_state=0)\n",
    "    features = _tsne.fit_transform(features)\n",
    "    plt.figure(figsize=(10, 10))\n",
    "    plt.scatter(features[:, 0], features[:, 1], c=labels, cmap=plt.cm.get_cmap(\"jet\", 100))\n",
    "    plt.colorbar(ticks=range(100))\n",
    "    plt.clim(-0.5, 9.5)\n",
    "    plt.show()"
   ],
   "metadata": {
    "collapsed": false
   },
   "id": "575e889e57eb97fc"
  },
  {
   "cell_type": "markdown",
   "source": [
    "# 3. 读取模型"
   ],
   "metadata": {
    "collapsed": false
   },
   "id": "7b0c5d23da5f7a58"
  },
  {
   "cell_type": "code",
   "outputs": [],
   "source": [
    "# 训练时不使用norm\n",
    "saved_path = \"../saved/noLN_momentum_resnet18_cifar100_50_all.pkl\"\n",
    "# 训练时使用norm\n",
    "# saved_path = \"../saved/e250+50_momentum_resnet18_cifar100_50_all.pkl\""
   ],
   "metadata": {
    "collapsed": false
   },
   "id": "b0d20ffe491fb633"
  },
  {
   "cell_type": "code",
   "outputs": [],
   "source": [
    "import torch\n",
    "from tqdm import tqdm\n",
    "from utils.inc_net import HeadNet"
   ],
   "metadata": {
    "collapsed": false,
    "ExecuteTime": {
     "end_time": "2024-01-06T13:04:40.553314400Z",
     "start_time": "2024-01-06T13:04:11.854895200Z"
    }
   },
   "id": "7aba71148dce4678",
   "execution_count": 3
  },
  {
   "cell_type": "code",
   "outputs": [],
   "source": [
    "model = HeadNet(args, False, None)"
   ],
   "metadata": {
    "collapsed": false
   },
   "id": "fa0a8443bee2e365"
  },
  {
   "cell_type": "code",
   "outputs": [],
   "source": [
    "saved_all = torch.load(saved_path)\n",
    "model.load_state_dict(saved_all[\"model_state_dict\"], strict=False)\n",
    "means = saved_all[\"means\"]\n",
    "\n",
    "backbone = model.backbone"
   ],
   "metadata": {
    "collapsed": false
   },
   "id": "8867fc80c5bd1937"
  },
  {
   "cell_type": "markdown",
   "source": [
    "## 3.1 计算每个类的特征向量"
   ],
   "metadata": {
    "collapsed": false
   },
   "id": "2a90914f44740b54"
  },
  {
   "cell_type": "code",
   "outputs": [],
   "source": [
    "features, labels = extract_features(backbone, dataloader)"
   ],
   "metadata": {
    "collapsed": false
   },
   "id": "2af5b95eaa74aaff"
  },
  {
   "cell_type": "markdown",
   "source": [
    "## 3.2 对特征进行t-SNE可视化"
   ],
   "metadata": {
    "collapsed": false
   },
   "id": "29c5d33e8dfdf17"
  },
  {
   "cell_type": "code",
   "outputs": [],
   "source": [
    "tsne = TSNE(n_components=2, init='pca', random_state=0)\n",
    "features = tsne.fit_transform(features)"
   ],
   "metadata": {
    "collapsed": false
   },
   "id": "22d63b60a12f53b8"
  },
  {
   "cell_type": "markdown",
   "source": [
    "## 3.3 对norm后的特征进行t-SNE可视化"
   ],
   "metadata": {
    "collapsed": false
   },
   "id": "ea252b14d59b5baf"
  },
  {
   "cell_type": "code",
   "outputs": [],
   "source": [
    "features = layernorm(features)"
   ],
   "metadata": {
    "collapsed": false
   },
   "id": "28c946c0b388aa9b"
  },
  {
   "cell_type": "code",
   "outputs": [],
   "source": [],
   "metadata": {
    "collapsed": false,
    "ExecuteTime": {
     "end_time": "2024-01-07T04:39:55.830156800Z",
     "start_time": "2024-01-07T04:39:55.796642100Z"
    }
   },
   "id": "709338e865738823",
   "execution_count": 22
  },
  {
   "cell_type": "code",
   "outputs": [
    {
     "data": {
      "text/plain": "array([[1, 2],\n       [2, 2]])"
     },
     "execution_count": 35,
     "metadata": {},
     "output_type": "execute_result"
    }
   ],
   "source": [],
   "metadata": {
    "collapsed": false,
    "ExecuteTime": {
     "end_time": "2024-01-07T04:43:12.118239900Z",
     "start_time": "2024-01-07T04:43:12.098466100Z"
    }
   },
   "id": "f8cd7e092bc5d883",
   "execution_count": 35
  },
  {
   "cell_type": "code",
   "outputs": [],
   "source": [],
   "metadata": {
    "collapsed": false
   },
   "id": "5d891f94549ffc6f"
  },
  {
   "cell_type": "code",
   "outputs": [],
   "source": [],
   "metadata": {
    "collapsed": false
   },
   "id": "6e57b37fce649af0"
  },
  {
   "cell_type": "code",
   "outputs": [],
   "source": [
    "# self._predicts = np.stack((y_pred[:, 0], y_true), axis=1)"
   ],
   "metadata": {
    "collapsed": false
   },
   "id": "3449ebf945579698"
  }
 ],
 "metadata": {
  "kernelspec": {
   "display_name": "Python 3",
   "language": "python",
   "name": "python3"
  },
  "language_info": {
   "codemirror_mode": {
    "name": "ipython",
    "version": 2
   },
   "file_extension": ".py",
   "mimetype": "text/x-python",
   "name": "python",
   "nbconvert_exporter": "python",
   "pygments_lexer": "ipython2",
   "version": "2.7.6"
  }
 },
 "nbformat": 4,
 "nbformat_minor": 5
}
